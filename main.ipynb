{
 "cells": [
  {
   "cell_type": "markdown",
   "id": "620e1dd8",
   "metadata": {},
   "source": [
    "## 2. Importación de las librerías necesarias"
   ]
  },
  {
   "cell_type": "code",
   "execution_count": 43,
   "id": "b29739e0",
   "metadata": {},
   "outputs": [],
   "source": [
    "from sklearn.model_selection import train_test_split\n",
    "from sklearn.linear_model import Perceptron\n",
    "from sklearn.datasets import make_blobs\n",
    "import pandas as pd\n",
    "import matplotlib.pyplot as plt\n",
    "import numpy as np"
   ]
  },
  {
   "cell_type": "markdown",
   "id": "70e2581b",
   "metadata": {},
   "source": [
    "## 3. Generación de los datos"
   ]
  },
  {
   "cell_type": "markdown",
   "id": "29c25f2b",
   "metadata": {},
   "source": [
    "Para esta práctica se utilizarán conjuntos de datos sintéticos que se generarán con la función\n",
    "make_blobs del paquete datasets de sklearn.\n",
    "\n",
    "El conjunto de datos generado será uno biclásico bidimensional con 15 muestras por clase. El conjunto de datos será dividido en subconjuntos de entrenamiento y test."
   ]
  },
  {
   "cell_type": "code",
   "execution_count": 44,
   "id": "9c5ae61c",
   "metadata": {
    "scrolled": false
   },
   "outputs": [
    {
     "name": "stdout",
     "output_type": "stream",
     "text": [
      "[[ -8.51333802   4.8211751 ]\n",
      " [ -7.62353726   3.52945902]\n",
      " [ -8.32094786   7.33633688]\n",
      " [ -1.9430089    3.57716252]\n",
      " [ -7.0500227    5.00514851]\n",
      " [ -7.2745554    3.63325803]\n",
      " [ -2.26836135   2.53377624]\n",
      " [ -2.40806597   2.87369754]\n",
      " [ -8.38447154   4.22026484]\n",
      " [ -1.37086535   3.69509472]\n",
      " [ -1.65189996   2.43330844]\n",
      " [ -2.44972238   2.9276355 ]\n",
      " [ -2.26635936   1.56177939]\n",
      " [ -3.78142616   4.19631908]\n",
      " [ -2.92382305   4.81175077]\n",
      " [ -8.2369095    5.21323317]\n",
      " [ -6.10376098   2.95593947]\n",
      " [ -9.34124179   4.87976432]\n",
      " [-10.61041972   5.83225189]\n",
      " [ -3.88691979   4.40727359]\n",
      " [ -8.13644502   4.60488414]\n",
      " [ -8.36327587   4.8795077 ]\n",
      " [ -7.7708744    5.3327117 ]\n",
      " [ -4.45124344   2.33698714]\n",
      " [ -3.18337748   4.84845249]\n",
      " [ -2.39247059   4.36226647]\n",
      " [ -1.45223554   5.36430918]\n",
      " [ -9.79136369   4.51881693]\n",
      " [ -8.8178153    3.82945595]\n",
      " [ -4.49696588   4.333518  ]]\n",
      "[0 0 0 1 0 0 1 1 0 1 1 1 1 1 1 0 0 0 0 1 0 0 0 1 1 1 1 0 0 1]\n"
     ]
    }
   ],
   "source": [
    "X, y = make_blobs(n_samples=[15, 15], n_features=2)\n",
    "print(X)\n",
    "print(y)\n",
    "Xtrain, Xtest, ytrain, ytest = train_test_split(X, y, train_size=0.7)\n",
    "Xtrain = pd.DataFrame(Xtrain)\n",
    "Xtest = pd.DataFrame(Xtest)"
   ]
  },
  {
   "cell_type": "markdown",
   "id": "9620d02d",
   "metadata": {},
   "source": [
    "## 4. Obtención de superficies de decisión con Perceptron"
   ]
  },
  {
   "cell_type": "markdown",
   "id": "e1230c64",
   "metadata": {},
   "source": [
    "Usando el conjunto de entrenamiento, se entrenará un modelo clasificador usando la clase Perceptron y se obtendrá una gráfica con las muestras usadas y la superficie de decisión."
   ]
  },
  {
   "cell_type": "code",
   "execution_count": 45,
   "id": "0bc30723",
   "metadata": {
    "scrolled": true
   },
   "outputs": [
    {
     "data": {
      "image/png": "[encoded data removed]",
      "text/plain": [
       "<Figure size 432x288 with 1 Axes>"
      ]
     },
     "metadata": {
      "needs_background": "light"
     },
     "output_type": "display_data"
    }
   ],
   "source": [
    "model = Perceptron().fit(X=Xtrain, y=np.reshape(np.array(ytrain), (1,-1))[0])\n",
    "w1 = model.coef_[0][0]\n",
    "w2 = model.coef_[0][1]\n",
    "b = model.intercept_[0]\n",
    "fig, axs = plt.subplots()\n",
    "axs.scatter(Xtrain[0], Xtrain[1], color='black')\n",
    "axs.axline((0, -b/w2), slope=(-(b/w2)/(b/w1)), color='r', label='Superficie de decisión')\n",
    "axs.legend()\n",
    "plt.show()"
   ]
  },
  {
   "cell_type": "markdown",
   "id": "5776cb11",
   "metadata": {},
   "source": [
    "Observamos que la superficie de decisión obtenida separa correctamente las muestras del conjunto de entrenamiento.\n",
    "\n",
    "Además, obtenemos el valor de la función discriminante y la clase predicha para cada muestra del conjunto de test y comparamos con su verdadera clase."
   ]
  },
  {
   "cell_type": "code",
   "execution_count": 46,
   "id": "c3d39f38",
   "metadata": {},
   "outputs": [
    {
     "data": {
      "text/html": [
       "<div>\n",
       "<style scoped>\n",
       "    .dataframe tbody tr th:only-of-type {\n",
       "        vertical-align: middle;\n",
       "    }\n",
       "\n",
       "    .dataframe tbody tr th {\n",
       "        vertical-align: top;\n",
       "    }\n",
       "\n",
       "    .dataframe thead th {\n",
       "        text-align: right;\n",
       "    }\n",
       "</style>\n",
       "<table border=\"1\" class=\"dataframe\">\n",
       "  <thead>\n",
       "    <tr style=\"text-align: right;\">\n",
       "      <th></th>\n",
       "      <th>función discriminante</th>\n",
       "      <th>pred</th>\n",
       "      <th>true</th>\n",
       "    </tr>\n",
       "  </thead>\n",
       "  <tbody>\n",
       "    <tr>\n",
       "      <th>0</th>\n",
       "      <td>-33.622796</td>\n",
       "      <td>0</td>\n",
       "      <td>0</td>\n",
       "    </tr>\n",
       "    <tr>\n",
       "      <th>1</th>\n",
       "      <td>16.823024</td>\n",
       "      <td>1</td>\n",
       "      <td>1</td>\n",
       "    </tr>\n",
       "    <tr>\n",
       "      <th>2</th>\n",
       "      <td>-7.864821</td>\n",
       "      <td>0</td>\n",
       "      <td>1</td>\n",
       "    </tr>\n",
       "    <tr>\n",
       "      <th>3</th>\n",
       "      <td>19.048866</td>\n",
       "      <td>1</td>\n",
       "      <td>1</td>\n",
       "    </tr>\n",
       "    <tr>\n",
       "      <th>4</th>\n",
       "      <td>-26.987974</td>\n",
       "      <td>0</td>\n",
       "      <td>0</td>\n",
       "    </tr>\n",
       "    <tr>\n",
       "      <th>5</th>\n",
       "      <td>31.014250</td>\n",
       "      <td>1</td>\n",
       "      <td>1</td>\n",
       "    </tr>\n",
       "    <tr>\n",
       "      <th>6</th>\n",
       "      <td>-3.027254</td>\n",
       "      <td>0</td>\n",
       "      <td>0</td>\n",
       "    </tr>\n",
       "    <tr>\n",
       "      <th>7</th>\n",
       "      <td>-16.443745</td>\n",
       "      <td>0</td>\n",
       "      <td>0</td>\n",
       "    </tr>\n",
       "    <tr>\n",
       "      <th>8</th>\n",
       "      <td>10.438224</td>\n",
       "      <td>1</td>\n",
       "      <td>0</td>\n",
       "    </tr>\n",
       "  </tbody>\n",
       "</table>\n",
       "</div>"
      ],
      "text/plain": [
       "   función discriminante  pred  true\n",
       "0             -33.622796     0     0\n",
       "1              16.823024     1     1\n",
       "2              -7.864821     0     1\n",
       "3              19.048866     1     1\n",
       "4             -26.987974     0     0\n",
       "5              31.014250     1     1\n",
       "6              -3.027254     0     0\n",
       "7             -16.443745     0     0\n",
       "8              10.438224     1     0"
      ]
     },
     "execution_count": 46,
     "metadata": {},
     "output_type": "execute_result"
    }
   ],
   "source": [
    "preds = model.decision_function(Xtest)\n",
    "pd.DataFrame({\"función discriminante\": preds, \"pred\": [0 if pred<0 else 1 for pred in preds], \"true\": ytest})"
   ]
  },
  {
   "cell_type": "markdown",
   "id": "5a8ca0e1",
   "metadata": {},
   "source": [
    "Apreciamos que todas las muestras fueron correctamente clasificadas, ya que el valor de la función discriminante es negativo en las muestras de la clase 0 y positivo en las de la clase 1."
   ]
  },
  {
   "cell_type": "markdown",
   "id": "52d73a41",
   "metadata": {},
   "source": [
    "A continuación, repetimos el mismo procedimiento, pero esta vez para un problema triclásico con 10 muestras por clase. Del mismo modo, obtenemos una gráfica con las muestras de entrenamiento y las tres superficies de decisión."
   ]
  },
  {
   "cell_type": "code",
   "execution_count": 47,
   "id": "98a79c83",
   "metadata": {},
   "outputs": [
    {
     "name": "stdout",
     "output_type": "stream",
     "text": [
      "[[ 8.64508205 -7.29646349]\n",
      " [10.18711136 -5.42797768]\n",
      " [-0.55858894 -4.30363305]\n",
      " [-0.96219965 -5.71406964]\n",
      " [-0.48081249  3.68647833]\n",
      " [ 0.3348385   4.90580406]\n",
      " [ 1.96143165  4.78477027]\n",
      " [ 0.05959938  6.62914211]\n",
      " [ 0.77781104  5.14589651]\n",
      " [ 9.80169885 -6.65763002]\n",
      " [ 1.05173797  7.15766476]\n",
      " [-0.29422027 -6.68879684]\n",
      " [ 8.63743601 -5.77998571]\n",
      " [-0.31115885 -6.9348703 ]\n",
      " [-0.9561626   4.99842602]\n",
      " [ 1.89445562  4.18674386]\n",
      " [ 9.12768837 -6.84779331]\n",
      " [-1.03980316 -7.44381785]\n",
      " [10.34237397 -5.59073431]\n",
      " [ 0.52719772  6.5377994 ]\n",
      " [ 7.8750426  -7.52725296]\n",
      " [ 9.06107276 -7.00449512]\n",
      " [-1.20892805 -6.75013706]\n",
      " [ 8.39051366 -6.56388885]\n",
      " [-1.76061034 -5.98039426]\n",
      " [-0.02718415 -5.79660247]\n",
      " [-0.83597481 -6.03377209]\n",
      " [ 6.4299211  -5.11084295]\n",
      " [-0.2643743  -6.36167075]\n",
      " [ 0.89483939  6.91919838]]\n",
      "[0 0 1 1 2 2 2 2 2 0 2 1 0 1 2 2 0 1 0 2 0 0 1 0 1 1 1 0 1 2]\n"
     ]
    }
   ],
   "source": [
    "X, y = make_blobs(n_samples=[10, 10, 10], n_features=2)\n",
    "print(X)\n",
    "print(y)\n",
    "Xtrain, Xtest, ytrain, ytest = train_test_split(X, y, train_size=0.7)\n",
    "Xtrain = pd.DataFrame(Xtrain)\n",
    "Xtest = pd.DataFrame(Xtest)"
   ]
  },
  {
   "cell_type": "code",
   "execution_count": 48,
   "id": "bb766e3d",
   "metadata": {},
   "outputs": [
    {
     "data": {
      "image/png": "[encoded data removed]",
      "text/plain": [
       "<Figure size 432x288 with 1 Axes>"
      ]
     },
     "metadata": {
      "needs_background": "light"
     },
     "output_type": "display_data"
    }
   ],
   "source": [
    "model = Perceptron().fit(X=Xtrain, y=np.reshape(np.array(ytrain), (1,-1))[0])\n",
    "w11 = model.coef_[0][0]\n",
    "w21 = model.coef_[0][1]\n",
    "w12 = model.coef_[1][0]\n",
    "w22 = model.coef_[1][1]\n",
    "w13 = model.coef_[2][0]\n",
    "w23 = model.coef_[2][1]\n",
    "b1 = model.intercept_[0]\n",
    "b2 = model.intercept_[1]\n",
    "b3 = model.intercept_[2]\n",
    "fig, axs = plt.subplots()\n",
    "axs.scatter(Xtrain[0], Xtrain[1], color='black')\n",
    "axs.axline((0, -b1/w21), slope=(-(b1/w21)/(b1/w11)), color='r', label='Superficie de decisión 1')\n",
    "axs.axline((0, -b2/w22), slope=(-(b2/w22)/(b2/w12)), color='b', label='Superficie de decisión 2')\n",
    "axs.axline((0, -b3/w23), slope=(-(b3/w23)/(b3/w13)), color='g', label='Superficie de decisión 3')\n",
    "axs.legend()\n",
    "plt.show()"
   ]
  },
  {
   "cell_type": "markdown",
   "id": "df041fea",
   "metadata": {},
   "source": [
    "De nuevo, observamos que las muestras de entrenamiento son correctamente clasificadas.\n",
    "\n",
    "Igualmente, obtenemos en este caso los valores de las tres funciones discriminantes y la predicción de la clase a la que pertenece cada muestra."
   ]
  },
  {
   "cell_type": "code",
   "execution_count": 49,
   "id": "2f212262",
   "metadata": {},
   "outputs": [
    {
     "data": {
      "text/html": [
       "<div>\n",
       "<style scoped>\n",
       "    .dataframe tbody tr th:only-of-type {\n",
       "        vertical-align: middle;\n",
       "    }\n",
       "\n",
       "    .dataframe tbody tr th {\n",
       "        vertical-align: top;\n",
       "    }\n",
       "\n",
       "    .dataframe thead th {\n",
       "        text-align: right;\n",
       "    }\n",
       "</style>\n",
       "<table border=\"1\" class=\"dataframe\">\n",
       "  <thead>\n",
       "    <tr style=\"text-align: right;\">\n",
       "      <th></th>\n",
       "      <th>función discriminante 0</th>\n",
       "      <th>función discriminante 1</th>\n",
       "      <th>función discriminante 2</th>\n",
       "      <th>pred</th>\n",
       "      <th>true</th>\n",
       "    </tr>\n",
       "  </thead>\n",
       "  <tbody>\n",
       "    <tr>\n",
       "      <th>0</th>\n",
       "      <td>-3.134217</td>\n",
       "      <td>57.774819</td>\n",
       "      <td>-25.941523</td>\n",
       "      <td>1</td>\n",
       "      <td>1</td>\n",
       "    </tr>\n",
       "    <tr>\n",
       "      <th>1</th>\n",
       "      <td>-2.786133</td>\n",
       "      <td>-50.648980</td>\n",
       "      <td>15.523463</td>\n",
       "      <td>2</td>\n",
       "      <td>2</td>\n",
       "    </tr>\n",
       "    <tr>\n",
       "      <th>2</th>\n",
       "      <td>9.853123</td>\n",
       "      <td>-49.045137</td>\n",
       "      <td>-29.178596</td>\n",
       "      <td>0</td>\n",
       "      <td>0</td>\n",
       "    </tr>\n",
       "    <tr>\n",
       "      <th>3</th>\n",
       "      <td>-4.521894</td>\n",
       "      <td>-45.620161</td>\n",
       "      <td>19.596255</td>\n",
       "      <td>2</td>\n",
       "      <td>2</td>\n",
       "    </tr>\n",
       "    <tr>\n",
       "      <th>4</th>\n",
       "      <td>5.872231</td>\n",
       "      <td>-34.730535</td>\n",
       "      <td>-20.932598</td>\n",
       "      <td>0</td>\n",
       "      <td>0</td>\n",
       "    </tr>\n",
       "    <tr>\n",
       "      <th>5</th>\n",
       "      <td>8.851081</td>\n",
       "      <td>-45.114437</td>\n",
       "      <td>-27.231898</td>\n",
       "      <td>0</td>\n",
       "      <td>0</td>\n",
       "    </tr>\n",
       "    <tr>\n",
       "      <th>6</th>\n",
       "      <td>-3.548416</td>\n",
       "      <td>45.338904</td>\n",
       "      <td>-19.602156</td>\n",
       "      <td>1</td>\n",
       "      <td>1</td>\n",
       "    </tr>\n",
       "    <tr>\n",
       "      <th>7</th>\n",
       "      <td>-4.506032</td>\n",
       "      <td>55.340574</td>\n",
       "      <td>-20.200070</td>\n",
       "      <td>1</td>\n",
       "      <td>1</td>\n",
       "    </tr>\n",
       "    <tr>\n",
       "      <th>8</th>\n",
       "      <td>-2.877196</td>\n",
       "      <td>-55.361263</td>\n",
       "      <td>17.695871</td>\n",
       "      <td>2</td>\n",
       "      <td>2</td>\n",
       "    </tr>\n",
       "  </tbody>\n",
       "</table>\n",
       "</div>"
      ],
      "text/plain": [
       "   función discriminante 0  función discriminante 1  función discriminante 2  \\\n",
       "0                -3.134217                57.774819               -25.941523   \n",
       "1                -2.786133               -50.648980                15.523463   \n",
       "2                 9.853123               -49.045137               -29.178596   \n",
       "3                -4.521894               -45.620161                19.596255   \n",
       "4                 5.872231               -34.730535               -20.932598   \n",
       "5                 8.851081               -45.114437               -27.231898   \n",
       "6                -3.548416                45.338904               -19.602156   \n",
       "7                -4.506032                55.340574               -20.200070   \n",
       "8                -2.877196               -55.361263                17.695871   \n",
       "\n",
       "   pred  true  \n",
       "0     1     1  \n",
       "1     2     2  \n",
       "2     0     0  \n",
       "3     2     2  \n",
       "4     0     0  \n",
       "5     0     0  \n",
       "6     1     1  \n",
       "7     1     1  \n",
       "8     2     2  "
      ]
     },
     "execution_count": 49,
     "metadata": {},
     "output_type": "execute_result"
    }
   ],
   "source": [
    "preds = model.decision_function(Xtest).tolist()\n",
    "pd.DataFrame({\"función discriminante 0\": [pred[0] for pred in preds],\n",
    "              \"función discriminante 1\": [pred[1] for pred in preds],\n",
    "              \"función discriminante 2\": [pred[2] for pred in preds],\n",
    "              \"pred\": [pred.index(max(pred)) for pred in preds], \"true\": ytest})"
   ]
  },
  {
   "cell_type": "markdown",
   "id": "3b5ce133",
   "metadata": {},
   "source": [
    "Otra vez, todas las muestras de test fueron correctamente clasificadas. Lo podemos observar fijándonos en que la función discriminante que tiene valor positivo es la que indica a qué clase pertenece la muestra."
   ]
  },
  {
   "cell_type": "markdown",
   "id": "77394c48",
   "metadata": {},
   "source": [
    "## 5. Implementación del método Perceptron"
   ]
  },
  {
   "cell_type": "code",
   "execution_count": 50,
   "id": "80f8af07",
   "metadata": {},
   "outputs": [],
   "source": [
    "class Perceptron:\n",
    "    \"\"\"\n",
    "    Clase que cuenta con dos métodos para entrenar un perceptrón y obtener predicciones.\n",
    "\n",
    "    Atributos:\n",
    "        pesos_ (array): vector de los pesos de las características del modelo entrenado (w).\n",
    "        intercept_ (float): valor del término independiente (w0).\n",
    "        max_iter (int): número máximo de iteraciones del proceso de entrenamiento.\n",
    "        mezclar (bool): booleano que indica si las muestras se mezclan entre cada iteración o no.\n",
    "        eta0 (float): la fracción de la muestra mal clasificada por la que se actualiza el vector de pesos.\n",
    "        semilla (int): número que indica el valor de la semilla en caso de mezclar aleatoriamente las muestras.\n",
    "    \"\"\"\n",
    "    def __init__(self, max_iter=1000, mezclar=True, eta0=1.0, semilla=0):\n",
    "        \"\"\"\n",
    "        Función constructora de la clase.\n",
    "        \"\"\"\n",
    "\n",
    "        assert type(max_iter) == int and max_iter > 0, \"max_iter debe ser un entero mayor que 0.\"\n",
    "        assert type(mezclar) == bool, \"mezclar debe ser de tipo booleano.\"\n",
    "        assert type(eta0) == int or type(eta0) == float, \"eta0 debe ser un número real.\"\n",
    "        assert semilla is None or type(semilla) == int, \"Si mezclar es True, semilla debe ser un entero.\"\n",
    "        self.pesos_ = None\n",
    "        self.intercept_ = None\n",
    "        self.max_iter = max_iter\n",
    "        self.mezclar = mezclar\n",
    "        self.eta0 = eta0\n",
    "        self.semilla = semilla\n",
    "\n",
    "    def fit(self, X, y):\n",
    "        \"\"\"\n",
    "        Función que entrena un modelo de perceptrón.\n",
    "\n",
    "        :param X: (ndarray) numpy array bidimensional que contiene las características de las muestras a clasificar.\n",
    "        :param y: (array-like) iterable unidimensional que contiene la clase a la que pertenece cada muestra X.\n",
    "        :return: (Perceptron) devuelve una instancia de la clase Perceptron con los pesos correspondientes al modelo entrenado.\n",
    "        \"\"\"\n",
    "\n",
    "        assert type(X).__module__ == \"numpy\", \"El argumento X debe ser un numpy array.\"\n",
    "        assert len(X) > 0, \"El argumento X debe tener como mínimo 1 muestra.\"\n",
    "        assert all([len(x) > 0 for x in X]), \"Las muestras deben tener una característica como mínimo.\"\n",
    "        assert len(X) == len(y), \"X e y deben tener la misma cantidad de muestras.\"\n",
    "\n",
    "        if self.semilla is not None:\n",
    "            np.random.seed(self.semilla)\n",
    "        self.pesos_ = np.array([0] * len(X[0]))\n",
    "        self.intercept_ = 0\n",
    "\n",
    "        for _ in range(self.max_iter):\n",
    "            xcount = 0  # contador del número de muestras que son correctamente clasificadas\n",
    "            for i in range(len(X)):\n",
    "                f = self.intercept_ + np.dot(self.pesos_, X[i])\n",
    "                if y[i] == 1 and f < 0:\n",
    "                    self.intercept_ = self.intercept_ + self.eta0\n",
    "                    self.pesos_ = [self.pesos_[i2] + self.eta0 * X[i][i2] for i2 in range(len(self.pesos_))]\n",
    "                elif y[i] == 0 and f >= 0:\n",
    "                    self.intercept_ = self.intercept_ - self.eta0\n",
    "                    self.pesos_ = [self.pesos_[i2] - self.eta0 * X[i][i2] for i2 in range(len(self.pesos_))]\n",
    "                else:\n",
    "                    xcount += 1\n",
    "            # si todas las muestras fueron correctamente clasificadas, no se modificó el vector de pesos, por lo que acabamos\n",
    "            if xcount == len(X):\n",
    "                break\n",
    "            if self.mezclar:\n",
    "                p = np.random.permutation(len(X))\n",
    "                X = np.array(X)[p].tolist()\n",
    "                y = np.array(y)[p].tolist()\n",
    "\n",
    "        return self\n",
    "\n",
    "    def predict(self, X):\n",
    "        \"\"\"\n",
    "        Función que predice a qué clase pertenecen las muestras X pasadas.\n",
    "\n",
    "        :param X: (ndarray) numpy array bidimensional que contiene las características de las muestras a clasificar.\n",
    "        :return: (list) lista unidimensional que contiene las clases de las predicciones.\n",
    "        \"\"\"\n",
    "\n",
    "        assert type(X).__module__ == \"numpy\", \"El argumento X debe ser un numpy array.\"\n",
    "        assert len(X) > 0, \"El argumento X debe tener como mínimo 1 muestra.\"\n",
    "        assert all([len(x) > 0 for x in X]), \"Las muestras deben tener una característica como mínimo.\"\n",
    "\n",
    "        preds = []\n",
    "        for i in range(len(X)):\n",
    "            f = self.intercept_ + np.dot(self.pesos_, X[i])\n",
    "            preds.append(f)\n",
    "        preds = [0 if pred < 0 else 1 for pred in preds]\n",
    "        return preds"
   ]
  },
  {
   "cell_type": "code",
   "execution_count": 51,
   "id": "4703f8eb",
   "metadata": {},
   "outputs": [
    {
     "data": {
      "image/png": "[encoded data removed]",
      "text/plain": [
       "<Figure size 432x288 with 1 Axes>"
      ]
     },
     "metadata": {
      "needs_background": "light"
     },
     "output_type": "display_data"
    }
   ],
   "source": [
    "X, y = make_blobs(n_samples=[15, 15], n_features=2)\n",
    "y = np.reshape(np.array(y), (1,-1))[0]\n",
    "model = Perceptron(max_iter=10000, mezclar=True, eta0=1.0, semilla=None).fit(X, y)\n",
    "\n",
    "w1 = model.pesos_[0]\n",
    "w2 = model.pesos_[1]\n",
    "b = model.intercept_\n",
    "fig, axs = plt.subplots()\n",
    "x = pd.DataFrame(X)\n",
    "axs.scatter(x[0], x[1], color='black')\n",
    "axs.axline((0, -b / w2), slope=(-(b / w2) / (b / w1)), color='r', label='Superficie de decisión')\n",
    "axs.legend()\n",
    "plt.show()"
   ]
  },
  {
   "cell_type": "code",
   "execution_count": 52,
   "id": "1bdc9072",
   "metadata": {},
   "outputs": [
    {
     "data": {
      "text/html": [
       "<div>\n",
       "<style scoped>\n",
       "    .dataframe tbody tr th:only-of-type {\n",
       "        vertical-align: middle;\n",
       "    }\n",
       "\n",
       "    .dataframe tbody tr th {\n",
       "        vertical-align: top;\n",
       "    }\n",
       "\n",
       "    .dataframe thead th {\n",
       "        text-align: right;\n",
       "    }\n",
       "</style>\n",
       "<table border=\"1\" class=\"dataframe\">\n",
       "  <thead>\n",
       "    <tr style=\"text-align: right;\">\n",
       "      <th></th>\n",
       "      <th>pred</th>\n",
       "      <th>true</th>\n",
       "    </tr>\n",
       "  </thead>\n",
       "  <tbody>\n",
       "    <tr>\n",
       "      <th>0</th>\n",
       "      <td>0</td>\n",
       "      <td>0</td>\n",
       "    </tr>\n",
       "    <tr>\n",
       "      <th>1</th>\n",
       "      <td>0</td>\n",
       "      <td>0</td>\n",
       "    </tr>\n",
       "    <tr>\n",
       "      <th>2</th>\n",
       "      <td>0</td>\n",
       "      <td>0</td>\n",
       "    </tr>\n",
       "    <tr>\n",
       "      <th>3</th>\n",
       "      <td>0</td>\n",
       "      <td>0</td>\n",
       "    </tr>\n",
       "    <tr>\n",
       "      <th>4</th>\n",
       "      <td>0</td>\n",
       "      <td>0</td>\n",
       "    </tr>\n",
       "    <tr>\n",
       "      <th>5</th>\n",
       "      <td>0</td>\n",
       "      <td>0</td>\n",
       "    </tr>\n",
       "    <tr>\n",
       "      <th>6</th>\n",
       "      <td>1</td>\n",
       "      <td>1</td>\n",
       "    </tr>\n",
       "    <tr>\n",
       "      <th>7</th>\n",
       "      <td>1</td>\n",
       "      <td>1</td>\n",
       "    </tr>\n",
       "    <tr>\n",
       "      <th>8</th>\n",
       "      <td>1</td>\n",
       "      <td>1</td>\n",
       "    </tr>\n",
       "    <tr>\n",
       "      <th>9</th>\n",
       "      <td>1</td>\n",
       "      <td>1</td>\n",
       "    </tr>\n",
       "    <tr>\n",
       "      <th>10</th>\n",
       "      <td>0</td>\n",
       "      <td>0</td>\n",
       "    </tr>\n",
       "    <tr>\n",
       "      <th>11</th>\n",
       "      <td>0</td>\n",
       "      <td>0</td>\n",
       "    </tr>\n",
       "    <tr>\n",
       "      <th>12</th>\n",
       "      <td>0</td>\n",
       "      <td>0</td>\n",
       "    </tr>\n",
       "    <tr>\n",
       "      <th>13</th>\n",
       "      <td>1</td>\n",
       "      <td>1</td>\n",
       "    </tr>\n",
       "    <tr>\n",
       "      <th>14</th>\n",
       "      <td>0</td>\n",
       "      <td>0</td>\n",
       "    </tr>\n",
       "    <tr>\n",
       "      <th>15</th>\n",
       "      <td>0</td>\n",
       "      <td>0</td>\n",
       "    </tr>\n",
       "    <tr>\n",
       "      <th>16</th>\n",
       "      <td>1</td>\n",
       "      <td>1</td>\n",
       "    </tr>\n",
       "    <tr>\n",
       "      <th>17</th>\n",
       "      <td>1</td>\n",
       "      <td>1</td>\n",
       "    </tr>\n",
       "    <tr>\n",
       "      <th>18</th>\n",
       "      <td>1</td>\n",
       "      <td>1</td>\n",
       "    </tr>\n",
       "    <tr>\n",
       "      <th>19</th>\n",
       "      <td>1</td>\n",
       "      <td>1</td>\n",
       "    </tr>\n",
       "    <tr>\n",
       "      <th>20</th>\n",
       "      <td>1</td>\n",
       "      <td>1</td>\n",
       "    </tr>\n",
       "    <tr>\n",
       "      <th>21</th>\n",
       "      <td>0</td>\n",
       "      <td>0</td>\n",
       "    </tr>\n",
       "    <tr>\n",
       "      <th>22</th>\n",
       "      <td>0</td>\n",
       "      <td>0</td>\n",
       "    </tr>\n",
       "    <tr>\n",
       "      <th>23</th>\n",
       "      <td>1</td>\n",
       "      <td>1</td>\n",
       "    </tr>\n",
       "    <tr>\n",
       "      <th>24</th>\n",
       "      <td>0</td>\n",
       "      <td>0</td>\n",
       "    </tr>\n",
       "    <tr>\n",
       "      <th>25</th>\n",
       "      <td>1</td>\n",
       "      <td>1</td>\n",
       "    </tr>\n",
       "    <tr>\n",
       "      <th>26</th>\n",
       "      <td>0</td>\n",
       "      <td>0</td>\n",
       "    </tr>\n",
       "    <tr>\n",
       "      <th>27</th>\n",
       "      <td>1</td>\n",
       "      <td>1</td>\n",
       "    </tr>\n",
       "    <tr>\n",
       "      <th>28</th>\n",
       "      <td>1</td>\n",
       "      <td>1</td>\n",
       "    </tr>\n",
       "    <tr>\n",
       "      <th>29</th>\n",
       "      <td>1</td>\n",
       "      <td>1</td>\n",
       "    </tr>\n",
       "  </tbody>\n",
       "</table>\n",
       "</div>"
      ],
      "text/plain": [
       "    pred  true\n",
       "0      0     0\n",
       "1      0     0\n",
       "2      0     0\n",
       "3      0     0\n",
       "4      0     0\n",
       "5      0     0\n",
       "6      1     1\n",
       "7      1     1\n",
       "8      1     1\n",
       "9      1     1\n",
       "10     0     0\n",
       "11     0     0\n",
       "12     0     0\n",
       "13     1     1\n",
       "14     0     0\n",
       "15     0     0\n",
       "16     1     1\n",
       "17     1     1\n",
       "18     1     1\n",
       "19     1     1\n",
       "20     1     1\n",
       "21     0     0\n",
       "22     0     0\n",
       "23     1     1\n",
       "24     0     0\n",
       "25     1     1\n",
       "26     0     0\n",
       "27     1     1\n",
       "28     1     1\n",
       "29     1     1"
      ]
     },
     "execution_count": 52,
     "metadata": {},
     "output_type": "execute_result"
    }
   ],
   "source": [
    "pd.DataFrame({\"pred\": model.predict(X), \"true\": y})"
   ]
  },
  {
   "cell_type": "markdown",
   "id": "c54899d9",
   "metadata": {},
   "source": [
    "Observamos tanto en la gráfica como en la tabla de predicciones que todas las muestras fueron correctamente clasificadas."
   ]
  },
  {
   "cell_type": "markdown",
   "id": "3b3d3f84",
   "metadata": {},
   "source": [
    "## 6. Ejemplos de uso"
   ]
  },
  {
   "cell_type": "markdown",
   "id": "b68566c6",
   "metadata": {},
   "source": [
    "Veremos distintos usos de la clase Perceptron usando el mismo conjunto de datos, que será dividido en subconjuntos de entrenamiento y test:"
   ]
  },
  {
   "cell_type": "code",
   "execution_count": 53,
   "id": "a3b9b9da",
   "metadata": {},
   "outputs": [],
   "source": [
    "X, y = make_blobs(n_samples=[10, 10], n_features=2)\n",
    "y = np.reshape(np.array(y), (1,-1))[0]\n",
    "Xtrain, Xtest, ytrain, ytest = train_test_split(X, y, train_size=0.7)"
   ]
  },
  {
   "cell_type": "markdown",
   "id": "57dc79ed",
   "metadata": {},
   "source": [
    "### 6.1 Entrenamiento con una iteración"
   ]
  },
  {
   "cell_type": "code",
   "execution_count": 54,
   "id": "5cb1f6f6",
   "metadata": {},
   "outputs": [
    {
     "data": {
      "image/png": "[encoded data removed]",
      "text/plain": [
       "<Figure size 432x288 with 1 Axes>"
      ]
     },
     "metadata": {
      "needs_background": "light"
     },
     "output_type": "display_data"
    },
    {
     "data": {
      "image/png": "[encoded data removed]",
      "text/plain": [
       "<Figure size 432x288 with 1 Axes>"
      ]
     },
     "metadata": {
      "needs_background": "light"
     },
     "output_type": "display_data"
    }
   ],
   "source": [
    "model = Perceptron(max_iter=1, mezclar=True, eta0=1.0, semilla=None).fit(Xtrain, ytrain)\n",
    "\n",
    "w1 = model.pesos_[0]\n",
    "w2 = model.pesos_[1]\n",
    "b = model.intercept_\n",
    "fig, axs = plt.subplots()\n",
    "x = pd.DataFrame(Xtrain)\n",
    "axs.scatter(x[0], x[1], color='black')\n",
    "axs.axline((0, -b / w2), slope=(-(b / w2) / (b / w1)), color='r', label='Superficie de decisión')\n",
    "axs.legend()\n",
    "plt.show()\n",
    "\n",
    "fig, axs = plt.subplots()\n",
    "x = pd.DataFrame(Xtest)\n",
    "axs.scatter(x[0], x[1], color='black')\n",
    "axs.axline((0, -b / w2), slope=(-(b / w2) / (b / w1)), color='r', label='Superficie de decisión')\n",
    "axs.legend()\n",
    "plt.show()"
   ]
  },
  {
   "cell_type": "markdown",
   "id": "c59d3558",
   "metadata": {},
   "source": [
    "Observamos que con una sola iteración el modelo no es capaz de clasificar correctamente las muestras."
   ]
  },
  {
   "cell_type": "markdown",
   "id": "f41a8b42",
   "metadata": {},
   "source": [
    "### 6.2 Entrenamiento con y sin mezclar"
   ]
  },
  {
   "cell_type": "code",
   "execution_count": 55,
   "id": "38badeb5",
   "metadata": {},
   "outputs": [
    {
     "data": {
      "image/png": "[encoded data removed]",
      "text/plain": [
       "<Figure size 432x288 with 1 Axes>"
      ]
     },
     "metadata": {
      "needs_background": "light"
     },
     "output_type": "display_data"
    },
    {
     "data": {
      "image/png": "[encoded data removed]",
      "text/plain": [
       "<Figure size 432x288 with 1 Axes>"
      ]
     },
     "metadata": {
      "needs_background": "light"
     },
     "output_type": "display_data"
    },
    {
     "data": {
      "image/png": "[encoded data removed]",
      "text/plain": [
       "<Figure size 432x288 with 1 Axes>"
      ]
     },
     "metadata": {
      "needs_background": "light"
     },
     "output_type": "display_data"
    },
    {
     "data": {
      "image/png": "[encoded data removed]",
      "text/plain": [
       "<Figure size 432x288 with 1 Axes>"
      ]
     },
     "metadata": {
      "needs_background": "light"
     },
     "output_type": "display_data"
    }
   ],
   "source": [
    "model = Perceptron(max_iter=1000, mezclar=False, eta0=1.0, semilla=None).fit(Xtrain, ytrain)\n",
    "\n",
    "w1 = model.pesos_[0]\n",
    "w2 = model.pesos_[1]\n",
    "b = model.intercept_\n",
    "fig, axs = plt.subplots()\n",
    "x = pd.DataFrame(Xtrain)\n",
    "axs.scatter(x[0], x[1], color='black')\n",
    "axs.axline((0, -b / w2), slope=(-(b / w2) / (b / w1)), color='r', label='Superficie de decisión')\n",
    "axs.legend()\n",
    "plt.show()\n",
    "\n",
    "fig, axs = plt.subplots()\n",
    "x = pd.DataFrame(Xtest)\n",
    "axs.scatter(x[0], x[1], color='black')\n",
    "axs.axline((0, -b / w2), slope=(-(b / w2) / (b / w1)), color='r', label='Superficie de decisión')\n",
    "axs.legend()\n",
    "plt.show()\n",
    "\n",
    "model = Perceptron(max_iter=1000, mezclar=True, eta0=1.0, semilla=None).fit(Xtrain, ytrain)\n",
    "\n",
    "w1 = model.pesos_[0]\n",
    "w2 = model.pesos_[1]\n",
    "b = model.intercept_\n",
    "fig, axs = plt.subplots()\n",
    "x = pd.DataFrame(Xtrain)\n",
    "axs.scatter(x[0], x[1], color='black')\n",
    "axs.axline((0, -b / w2), slope=(-(b / w2) / (b / w1)), color='r', label='Superficie de decisión')\n",
    "axs.legend()\n",
    "plt.show()\n",
    "\n",
    "fig, axs = plt.subplots()\n",
    "x = pd.DataFrame(Xtest)\n",
    "axs.scatter(x[0], x[1], color='black')\n",
    "axs.axline((0, -b / w2), slope=(-(b / w2) / (b / w1)), color='r', label='Superficie de decisión')\n",
    "axs.legend()\n",
    "plt.show()"
   ]
  },
  {
   "cell_type": "markdown",
   "id": "8cab2942",
   "metadata": {},
   "source": [
    "Observamos que en ambos casos se obtiene un resultado muy parecido y en ambos parece haber una buena clasificación."
   ]
  },
  {
   "cell_type": "markdown",
   "id": "a3d8563f",
   "metadata": {},
   "source": [
    "### 6.3 Entrenamiento con mezclar y semilla"
   ]
  },
  {
   "cell_type": "code",
   "execution_count": 56,
   "id": "fa8bc08b",
   "metadata": {},
   "outputs": [
    {
     "data": {
      "image/png": "[encoded data removed]",
      "text/plain": [
       "<Figure size 432x288 with 1 Axes>"
      ]
     },
     "metadata": {
      "needs_background": "light"
     },
     "output_type": "display_data"
    },
    {
     "data": {
      "image/png": "[encoded data removed]",
      "text/plain": [
       "<Figure size 432x288 with 1 Axes>"
      ]
     },
     "metadata": {
      "needs_background": "light"
     },
     "output_type": "display_data"
    },
    {
     "data": {
      "image/png": "[encoded data removed]",
      "text/plain": [
       "<Figure size 432x288 with 1 Axes>"
      ]
     },
     "metadata": {
      "needs_background": "light"
     },
     "output_type": "display_data"
    },
    {
     "data": {
      "image/png": "[encoded data removed]",
      "text/plain": [
       "<Figure size 432x288 with 1 Axes>"
      ]
     },
     "metadata": {
      "needs_background": "light"
     },
     "output_type": "display_data"
    }
   ],
   "source": [
    "model = Perceptron(max_iter=1000, mezclar=True, eta0=1.0, semilla=12).fit(Xtrain, ytrain)\n",
    "\n",
    "w1 = model.pesos_[0]\n",
    "w2 = model.pesos_[1]\n",
    "b = model.intercept_\n",
    "fig, axs = plt.subplots()\n",
    "x = pd.DataFrame(Xtrain)\n",
    "axs.scatter(x[0], x[1], color='black')\n",
    "axs.axline((0, -b / w2), slope=(-(b / w2) / (b / w1)), color='r', label='Superficie de decisión')\n",
    "axs.legend()\n",
    "plt.show()\n",
    "\n",
    "fig, axs = plt.subplots()\n",
    "x = pd.DataFrame(Xtest)\n",
    "axs.scatter(x[0], x[1], color='black')\n",
    "axs.axline((0, -b / w2), slope=(-(b / w2) / (b / w1)), color='r', label='Superficie de decisión')\n",
    "axs.legend()\n",
    "plt.show()\n",
    "\n",
    "model = Perceptron(max_iter=1000, mezclar=True, eta0=1.0, semilla=12).fit(Xtrain, ytrain)\n",
    "\n",
    "w1 = model.pesos_[0]\n",
    "w2 = model.pesos_[1]\n",
    "b = model.intercept_\n",
    "fig, axs = plt.subplots()\n",
    "x = pd.DataFrame(Xtrain)\n",
    "axs.scatter(x[0], x[1], color='black')\n",
    "axs.axline((0, -b / w2), slope=(-(b / w2) / (b / w1)), color='r', label='Superficie de decisión')\n",
    "axs.legend()\n",
    "plt.show()\n",
    "\n",
    "fig, axs = plt.subplots()\n",
    "x = pd.DataFrame(Xtest)\n",
    "axs.scatter(x[0], x[1], color='black')\n",
    "axs.axline((0, -b / w2), slope=(-(b / w2) / (b / w1)), color='r', label='Superficie de decisión')\n",
    "axs.legend()\n",
    "plt.show()"
   ]
  },
  {
   "cell_type": "markdown",
   "id": "6ecebfe9",
   "metadata": {},
   "source": [
    "Finalmente, observamos que realizando el entrenamiento dos veces mezclando aleatoriamente las muestras después de cada iteración obtenemos exactamente el mismo resultado ya que usamos la misma semilla para mezclar las muestras."
   ]
  }
 ],
 "metadata": {
  "kernelspec": {
   "display_name": "Python 3",
   "language": "python",
   "name": "python3"
  },
  "language_info": {
   "codemirror_mode": {
    "name": "ipython",
    "version": 3
   },
   "file_extension": ".py",
   "mimetype": "text/x-python",
   "name": "python",
   "nbconvert_exporter": "python",
   "pygments_lexer": "ipython3",
   "version": "3.8.8"
  }
 },
 "nbformat": 4,
 "nbformat_minor": 5
}
